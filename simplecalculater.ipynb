{
 "cells": [
  {
   "cell_type": "code",
   "execution_count": null,
   "id": "57769ba7-3854-4e5f-a402-1aafad4ccc6e",
   "metadata": {},
   "outputs": [
    {
     "name": "stdout",
     "output_type": "stream",
     "text": [
      "select a operation \n",
      "1 for addition \n",
      "2 for substraction \n",
      "3 for division \n",
      "4 for multiplication\n"
     ]
    }
   ],
   "source": [
    "def addition(num1,num2):\n",
    "    return num1+num2\n",
    "def substraction(num1,num2):\n",
    "    return num1-num2\n",
    "def division(num1,num2):\n",
    "    return num1/num2\n",
    "def multiplication(num1,num2):\n",
    "    return num1*num2\n",
    "while True:\n",
    "    print('select a operation \\n1 for addition \\n2 for substraction \\n3 for division \\n4 for multiplication')\n",
    "    operation=int(input(\"1 or 2 or 3 or 4\\n\"))\n",
    "\n",
    "\n",
    "\n",
    "    if operation in [1,2,3,4]:\n",
    "            \n",
    "        num1=int(input(\"enter a number\"))\n",
    "        num2=int(input('enter other number'))\n",
    "        if operation == 1:\n",
    "            print(num1+num2)\n",
    "        elif operation ==2:\n",
    "            print(num1-num2)\n",
    "        elif operation==3:\n",
    "            print(num1/num2)\n",
    "        elif operation ==4:\n",
    "            print(num1*num2)\n",
    "        another_operater= input('do you want to continue (yes,no) : ').lower()\n",
    "        if another_operater != \"yes\":\n",
    "            break\n",
    "        \n",
    "    else:\n",
    "        print('choose the correct one')\n",
    "\n"
   ]
  },
  {
   "cell_type": "code",
   "execution_count": null,
   "id": "9e677f1b-8613-48f0-ab30-55d797561d1d",
   "metadata": {},
   "outputs": [],
   "source": []
  }
 ],
 "metadata": {
  "kernelspec": {
   "display_name": "Python 3 (ipykernel)",
   "language": "python",
   "name": "python3"
  },
  "language_info": {
   "codemirror_mode": {
    "name": "ipython",
    "version": 3
   },
   "file_extension": ".py",
   "mimetype": "text/x-python",
   "name": "python",
   "nbconvert_exporter": "python",
   "pygments_lexer": "ipython3",
   "version": "3.12.7"
  }
 },
 "nbformat": 4,
 "nbformat_minor": 5
}
